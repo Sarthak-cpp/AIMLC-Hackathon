{
 "cells": [
  {
   "cell_type": "code",
   "execution_count": 44,
   "id": "9fa534c1",
   "metadata": {},
   "outputs": [],
   "source": [
    "import pandas as pd\n",
    "import numpy as np"
   ]
  },
  {
   "cell_type": "code",
   "execution_count": 45,
   "id": "6c0c8bdb",
   "metadata": {},
   "outputs": [],
   "source": [
    "df = pd.read_csv(\"annotations.csv\")"
   ]
  },
  {
   "cell_type": "code",
   "execution_count": 46,
   "id": "0650a7d3",
   "metadata": {},
   "outputs": [],
   "source": [
    "p = np.array(df)\n",
    "answers = []"
   ]
  },
  {
   "cell_type": "code",
   "execution_count": 85,
   "id": "48deba18",
   "metadata": {},
   "outputs": [
    {
     "data": {
      "text/plain": [
       "array([['1.jpg', 'infix', 7],\n",
       "       ['2.jpg', 'postfix', 0],\n",
       "       ['3.jpg', 'infix', 21],\n",
       "       ...,\n",
       "       ['49998.jpg', 'infix', 1],\n",
       "       ['49999.jpg', 'prefix', 2],\n",
       "       ['50000.jpg', 'prefix', -2]], dtype=object)"
      ]
     },
     "execution_count": 85,
     "metadata": {},
     "output_type": "execute_result"
    }
   ],
   "source": [
    "p"
   ]
  },
  {
   "cell_type": "code",
   "execution_count": 79,
   "id": "57712054",
   "metadata": {},
   "outputs": [],
   "source": [
    "copy_to = {\n",
    "    0: 'div',\n",
    "    1: 'eight', \n",
    "    2: 'five',\n",
    "    3: 'four',\n",
    "    4: 'minus',\n",
    "    5: 'nine',\n",
    "    6: 'one',\n",
    "    7: 'plus',\n",
    "    8: 'seven',\n",
    "    9: 'six',\n",
    "    10: 'three',\n",
    "    11: 'times',\n",
    "    12: 'two',\n",
    "    13: 'zero',\n",
    "}"
   ]
  },
  {
   "cell_type": "code",
   "execution_count": 1,
   "id": "8beab02a",
   "metadata": {},
   "outputs": [],
   "source": [
    "dic = {1: 8, 2: 5, 3: 4, 5: 9, 6: 1, 8: 7, 9: 6, 10: 3, 12: 2, 13: 0}\n",
    "operators = [0, 4, 7, 11]\n",
    "\n",
    "\n",
    "def calculate(array):\n",
    "    cnt = 0\n",
    "\n",
    "    numbers = []\n",
    "    to_do = 0\n",
    "\n",
    "\n",
    "    for i in array:\n",
    "        if i in operators:\n",
    "            cnt += 1\n",
    "            to_do = i\n",
    "        else:\n",
    "            numbers.append(dic[i])\n",
    "\n",
    "    if (cnt != 1): return 0\n",
    "    try:\n",
    "        if (to_do == 0): return numbers[0] / numbers[1]\n",
    "        if (to_do == 4): return numbers[0] - numbers[1]\n",
    "        if (to_do == 7): return numbers[0] + numbers[1]\n",
    "        if (to_do == 11): return numbers[0] * numbers[1]\n",
    "    except:\n",
    "        return 0\n"
   ]
  },
  {
   "cell_type": "code",
   "execution_count": 2,
   "id": "5f36eb6f",
   "metadata": {},
   "outputs": [
    {
     "data": {
      "text/plain": [
       "63"
      ]
     },
     "execution_count": 2,
     "metadata": {},
     "output_type": "execute_result"
    }
   ],
   "source": [
    "calculate([11, 8, 5])"
   ]
  },
  {
   "cell_type": "code",
   "execution_count": 3,
   "id": "55c8f80d",
   "metadata": {},
   "outputs": [
    {
     "data": {
      "text/plain": [
       "2"
      ]
     },
     "execution_count": 3,
     "metadata": {},
     "output_type": "execute_result"
    }
   ],
   "source": [
    "calculate([12, 7, 13])"
   ]
  },
  {
   "cell_type": "code",
   "execution_count": 68,
   "id": "699db681",
   "metadata": {},
   "outputs": [],
   "source": [
    "data = list(np.array(pd.read_csv(\"out.csv\", header=None)))"
   ]
  },
  {
   "cell_type": "code",
   "execution_count": 69,
   "id": "ff54ad29",
   "metadata": {},
   "outputs": [],
   "source": [
    "for i in range(len(data)):\n",
    "    data[i] = list(data[i])"
   ]
  },
  {
   "cell_type": "code",
   "execution_count": 70,
   "id": "956e92e7",
   "metadata": {},
   "outputs": [
    {
     "data": {
      "text/plain": [
       "[['1a.jpg', 2],\n",
       " ['1b.jpg', 7],\n",
       " ['1c.jpg', 12],\n",
       " ['2a.jpg', 13],\n",
       " ['2b.jpg', 9],\n",
       " ['2c.jpg', 11],\n",
       " ['3a.jpg', 8],\n",
       " ['3b.jpg', 11],\n",
       " ['3c.jpg', 10],\n",
       " ['4a.jpg', 9]]"
      ]
     },
     "execution_count": 70,
     "metadata": {},
     "output_type": "execute_result"
    }
   ],
   "source": [
    "data[:10]"
   ]
  },
  {
   "cell_type": "code",
   "execution_count": 75,
   "id": "97374dfb",
   "metadata": {},
   "outputs": [],
   "source": [
    "data_dic = {}\n",
    "for i in data:\n",
    "    data_dic[i[0]] = i[1]"
   ]
  },
  {
   "cell_type": "code",
   "execution_count": 76,
   "id": "9b60b5e9",
   "metadata": {},
   "outputs": [],
   "source": [
    "def get_answer(i):\n",
    "    alpha = ['a', 'b', 'c']\n",
    "    a = [data_dic[str(i) + k + '.jpg'] for k in alpha]\n",
    "    return calculate(a)"
   ]
  },
  {
   "cell_type": "code",
   "execution_count": 77,
   "id": "d5c9fd9c",
   "metadata": {
    "scrolled": true
   },
   "outputs": [
    {
     "data": {
      "text/plain": [
       "7"
      ]
     },
     "execution_count": 77,
     "metadata": {},
     "output_type": "execute_result"
    }
   ],
   "source": [
    "get_answer(1)"
   ]
  },
  {
   "cell_type": "code",
   "execution_count": 81,
   "id": "20ecb5c2",
   "metadata": {},
   "outputs": [],
   "source": [
    "from shutil import copyfile\n",
    "import os"
   ]
  },
  {
   "cell_type": "code",
   "execution_count": 93,
   "id": "e70e1c83",
   "metadata": {},
   "outputs": [],
   "source": [
    "from shutil import move"
   ]
  },
  {
   "cell_type": "code",
   "execution_count": 82,
   "id": "bcf2f52e",
   "metadata": {},
   "outputs": [],
   "source": [
    "for i in copy_to.values():\n",
    "    os.mkdir(\"classified/\" + i)"
   ]
  },
  {
   "cell_type": "code",
   "execution_count": 83,
   "id": "0531fff4",
   "metadata": {},
   "outputs": [],
   "source": [
    "def this_is_correct(i):\n",
    "    alpha = ['a', 'b', 'c']\n",
    "    for alphabet in alpha:\n",
    "        filename = str(i) + alphabet + '.jpg'\n",
    "        initial = 'divided/' + filename\n",
    "        final = 'classified/' + copy_to[data_dic[filename]] + '/' + filename\n",
    "        copyfile(initial, final)"
   ]
  },
  {
   "cell_type": "code",
   "execution_count": 84,
   "id": "bd07dfc9",
   "metadata": {},
   "outputs": [],
   "source": [
    "this_is_correct(1)"
   ]
  },
  {
   "cell_type": "code",
   "execution_count": 86,
   "id": "8a084cd7",
   "metadata": {},
   "outputs": [],
   "source": [
    "for i in range(1, 50001):\n",
    "    if get_answer(i) == p[i - 1][2]:\n",
    "        this_is_correct(i)"
   ]
  },
  {
   "cell_type": "code",
   "execution_count": 87,
   "id": "4ef73e5c",
   "metadata": {},
   "outputs": [],
   "source": [
    "for i in range(1, 50001):\n",
    "    if get_answer(i) != p[i - 1][2]:\n",
    "        alpha = ['a', 'b', 'c']\n",
    "        for alphabet in alpha:\n",
    "            filename = str(i) + alphabet + '.jpg'\n",
    "            initial = 'divided/' + filename\n",
    "            final = 'rest/' + filename\n",
    "            copyfile(initial, final)"
   ]
  },
  {
   "cell_type": "code",
   "execution_count": 88,
   "id": "cae5d0f3",
   "metadata": {},
   "outputs": [],
   "source": [
    "for i in copy_to.values():\n",
    "    os.mkdir(\"rest_classified/\" + i)"
   ]
  },
  {
   "cell_type": "code",
   "execution_count": 89,
   "id": "ec0a3fcd",
   "metadata": {},
   "outputs": [],
   "source": [
    "for i in range(1, 50001):\n",
    "    if get_answer(i) != p[i - 1][2]:\n",
    "        alpha = ['a', 'b', 'c']\n",
    "        for alphabet in alpha:\n",
    "            filename = str(i) + alphabet + '.jpg'\n",
    "            initial = 'divided/' + filename\n",
    "            final = 'rest_classified/' + copy_to[data_dic[filename]] + '/' + filename\n",
    "            copyfile(initial, final)"
   ]
  },
  {
   "cell_type": "code",
   "execution_count": 92,
   "id": "9992e990",
   "metadata": {},
   "outputs": [],
   "source": [
    "from PIL import Image\n",
    "import numpy as np"
   ]
  },
  {
   "cell_type": "code",
   "execution_count": 182,
   "id": "86a73537",
   "metadata": {},
   "outputs": [],
   "source": [
    "def move_all_similar_to(image_name, initial, final):\n",
    "    main_img= Image.open(initial + '/' + image_name)\n",
    "    main_np_img = np.array(main_img)\n",
    "    for i in os.listdir(initial):\n",
    "        im = Image.open(initial + '/' + i)\n",
    "        np_im = np.array(im)\n",
    "        if (np_im == main_np_img).all():\n",
    "            move(initial + '/' +  i, final + '/' + i)\n",
    "            print(i)\n"
   ]
  },
  {
   "cell_type": "code",
   "execution_count": 188,
   "id": "a54b6aae",
   "metadata": {},
   "outputs": [
    {
     "name": "stdout",
     "output_type": "stream",
     "text": [
      "11702b.jpg\n",
      "12939a.jpg\n",
      "18547a.jpg\n",
      "18778a.jpg\n",
      "22314c.jpg\n",
      "22508b.jpg\n",
      "24138a.jpg\n",
      "25383b.jpg\n",
      "25963b.jpg\n",
      "27392b.jpg\n",
      "27566c.jpg\n",
      "28049c.jpg\n",
      "29394a.jpg\n",
      "33667c.jpg\n",
      "33695a.jpg\n",
      "34363c.jpg\n",
      "35078a.jpg\n",
      "35142b.jpg\n",
      "3521b.jpg\n",
      "35820b.jpg\n",
      "3933a.jpg\n",
      "42352c.jpg\n",
      "46765c.jpg\n",
      "48325b.jpg\n",
      "4918a.jpg\n",
      "49399c.jpg\n",
      "5302b.jpg\n",
      "5404b.jpg\n",
      "5469a.jpg\n",
      "5738c.jpg\n",
      "6410b.jpg\n",
      "6628a.jpg\n",
      "7810b.jpg\n"
     ]
    }
   ],
   "source": [
    "move_all_similar_to('3521b.jpg', \"classified/six\", \"classified/zero\")"
   ]
  },
  {
   "cell_type": "code",
   "execution_count": null,
   "id": "c6eec9d2",
   "metadata": {},
   "outputs": [],
   "source": []
  }
 ],
 "metadata": {
  "kernelspec": {
   "display_name": "Python 3",
   "language": "python",
   "name": "python3"
  },
  "language_info": {
   "codemirror_mode": {
    "name": "ipython",
    "version": 3
   },
   "file_extension": ".py",
   "mimetype": "text/x-python",
   "name": "python",
   "nbconvert_exporter": "python",
   "pygments_lexer": "ipython3",
   "version": "3.7.9"
  }
 },
 "nbformat": 4,
 "nbformat_minor": 5
}
