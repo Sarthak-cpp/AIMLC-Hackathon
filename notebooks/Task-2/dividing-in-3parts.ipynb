{
 "cells": [
  {
   "cell_type": "code",
   "execution_count": 9,
   "id": "0ce4ff55",
   "metadata": {},
   "outputs": [],
   "source": [
    "from PIL import Image\n",
    "import numpy as np"
   ]
  },
  {
   "cell_type": "code",
   "execution_count": 10,
   "id": "68ccb622",
   "metadata": {},
   "outputs": [],
   "source": [
    "im = Image.open(\"example.jpg\")"
   ]
  },
  {
   "cell_type": "code",
   "execution_count": 11,
   "id": "af32bdb4",
   "metadata": {},
   "outputs": [],
   "source": [
    "import matplotlib.pyplot as plt"
   ]
  },
  {
   "cell_type": "code",
   "execution_count": 12,
   "id": "ac00fbcf",
   "metadata": {},
   "outputs": [],
   "source": [
    "im = np.array(im)"
   ]
  },
  {
   "cell_type": "code",
   "execution_count": 17,
   "id": "26f76f49",
   "metadata": {},
   "outputs": [
    {
     "data": {
      "text/plain": [
       "numpy.ndarray"
      ]
     },
     "execution_count": 17,
     "metadata": {},
     "output_type": "execute_result"
    }
   ],
   "source": [
    "type(im)"
   ]
  },
  {
   "cell_type": "code",
   "execution_count": 18,
   "id": "0e091913",
   "metadata": {},
   "outputs": [],
   "source": [
    "M = 128\n",
    "N = 128"
   ]
  },
  {
   "cell_type": "code",
   "execution_count": 19,
   "id": "9a9f5237",
   "metadata": {},
   "outputs": [],
   "source": [
    "tiles = [im[x:x+M,y:y+N] for x in range(0,im.shape[0],M) for y in range(0,im.shape[1],N)]"
   ]
  },
  {
   "cell_type": "code",
   "execution_count": 23,
   "id": "222e7951",
   "metadata": {},
   "outputs": [],
   "source": [
    "img = Image.fromarray(tiles[2], 'L')\n",
    "img.show()"
   ]
  },
  {
   "cell_type": "code",
   "execution_count": 24,
   "id": "6dc483b5",
   "metadata": {},
   "outputs": [],
   "source": [
    "from PIL import Image\n",
    "import numpy as np\n",
    "\n",
    "M, N = 128, 128\n",
    "\n",
    "def image_split(img_location, output_folder, idx):\n",
    "    im = Image.open(img_location)\n",
    "    im = np.array(im)\n",
    "    tiles = [im[x:x+M,y:y+N] for x in range(0,im.shape[0],M) for y in range(0,im.shape[1],N)]\n",
    "    img = Image.fromarray(tiles[0], 'L')\n",
    "    img.save(output_folder + str(idx) + \"a.jpg\")\n",
    "    img = Image.fromarray(tiles[1], 'L')\n",
    "    img.save(output_folder + str(idx) + \"b.jpg\")\n",
    "    img = Image.fromarray(tiles[2], 'L')\n",
    "    img.save(output_folder + str(idx) + \"c.jpg\")\n",
    "    "
   ]
  },
  {
   "cell_type": "code",
   "execution_count": 25,
   "id": "ff467964",
   "metadata": {},
   "outputs": [],
   "source": [
    "image_split(\"example.jpg\", \"divided/\", 50)"
   ]
  },
  {
   "cell_type": "code",
   "execution_count": null,
   "id": "f8490da0",
   "metadata": {},
   "outputs": [],
   "source": []
  }
 ],
 "metadata": {
  "kernelspec": {
   "display_name": "Python 3",
   "language": "python",
   "name": "python3"
  },
  "language_info": {
   "codemirror_mode": {
    "name": "ipython",
    "version": 3
   },
   "file_extension": ".py",
   "mimetype": "text/x-python",
   "name": "python",
   "nbconvert_exporter": "python",
   "pygments_lexer": "ipython3",
   "version": "3.7.9"
  }
 },
 "nbformat": 4,
 "nbformat_minor": 5
}
